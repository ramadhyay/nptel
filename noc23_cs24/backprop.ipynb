{
 "cells": [
  {
   "cell_type": "code",
   "execution_count": 2,
   "id": "1f498bc5-563c-431a-bb07-9a79b69a1d2a",
   "metadata": {},
   "outputs": [],
   "source": [
    "import numpy as np"
   ]
  },
  {
   "cell_type": "code",
   "execution_count": 3,
   "id": "f5065e78-424c-4aaa-b9ed-ce131ea03f29",
   "metadata": {},
   "outputs": [
    {
     "data": {
      "text/plain": [
       "1.9542373206359396"
      ]
     },
     "execution_count": 3,
     "metadata": {},
     "output_type": "execute_result"
    }
   ],
   "source": [
    "    np.exp(0.67)"
   ]
  },
  {
   "cell_type": "code",
   "execution_count": 4,
   "id": "52995155-dd36-4d59-9a23-5b6832a7b0d5",
   "metadata": {},
   "outputs": [
    {
     "data": {
      "text/plain": [
       "0.7989910002494706"
      ]
     },
     "execution_count": 4,
     "metadata": {},
     "output_type": "execute_result"
    }
   ],
   "source": [
    "np.exp(0.67)/(np.exp(0.67)+np.exp(-0.71))"
   ]
  },
  {
   "cell_type": "code",
   "execution_count": 5,
   "id": "15269801-153e-4ae1-ae92-b6f8c3c30fa2",
   "metadata": {},
   "outputs": [
    {
     "data": {
      "text/plain": [
       "0.20100899975052935"
      ]
     },
     "execution_count": 5,
     "metadata": {},
     "output_type": "execute_result"
    }
   ],
   "source": [
    "np.exp(-0.71)/(np.exp(0.67)+np.exp(-0.71))"
   ]
  }
 ],
 "metadata": {
  "kernelspec": {
   "display_name": "Python 3 (ipykernel)",
   "language": "python",
   "name": "python3"
  },
  "language_info": {
   "codemirror_mode": {
    "name": "ipython",
    "version": 3
   },
   "file_extension": ".py",
   "mimetype": "text/x-python",
   "name": "python",
   "nbconvert_exporter": "python",
   "pygments_lexer": "ipython3",
   "version": "3.9.13"
  }
 },
 "nbformat": 4,
 "nbformat_minor": 5
}
