{
 "cells": [
  {
   "cell_type": "code",
   "execution_count": 66,
   "id": "6849e43c",
   "metadata": {},
   "outputs": [
    {
     "data": {
      "image/png": "[encoded data removed]",
      "text/plain": [
       "<Figure size 640x480 with 1 Axes>"
      ]
     },
     "metadata": {},
     "output_type": "display_data"
    }
   ],
   "source": [
    "import numpy as np\n",
    "import matplotlib.pyplot as plt\n",
    "import warnings\n",
    "# suppress warnings\n",
    "warnings.filterwarnings('ignore')\n",
    "\n",
    "def sigmoid(w,b,x):\n",
    "    return 1/(1+np.exp(-(w*x+b)))\n",
    "  \n",
    "x=np.linspace(0,1,500)\n",
    "\n",
    "w=100\n",
    "b=-60\n",
    "p1=sigmoid(w,b,x)\n",
    "\n",
    "w=100\n",
    "b=-30\n",
    "p2=sigmoid(w,b,x)\n",
    "\n",
    "p=p1*-0.9+p2*0.9\n",
    "\n",
    "plt.xlabel(\"x\") \n",
    "plt.ylabel(\"Sigmoid(x)\")  \n",
    "plt.plot(x, p) \n",
    "plt.show()"
   ]
  },
  {
   "cell_type": "code",
   "execution_count": 83,
   "id": "d9b88bb1",
   "metadata": {},
   "outputs": [
    {
     "data": {
      "text/plain": [
       "0.2689414213699951"
      ]
     },
     "execution_count": 83,
     "metadata": {},
     "output_type": "execute_result"
    }
   ],
   "source": [
    "sigmoid(100,-40,0.39)"
   ]
  },
  {
   "cell_type": "code",
   "execution_count": 84,
   "id": "b0a3765a",
   "metadata": {},
   "outputs": [],
   "source": [
    "from matplotlib import pyplot as plt\n",
    "from mpl_toolkits.mplot3d import Axes3D\n",
    "import numpy as np\n",
    "\n",
    "def sigmoid(w,b,x):\n",
    "    return 1/(1+np.exp(-(w*x+b)))\n"
   ]
  },
  {
   "cell_type": "code",
   "execution_count": 88,
   "id": "c6f9b93c",
   "metadata": {},
   "outputs": [],
   "source": [
    "x=np.array([[1,2]])"
   ]
  },
  {
   "cell_type": "code",
   "execution_count": 95,
   "id": "0a73834c",
   "metadata": {},
   "outputs": [],
   "source": [
    "w=np.array([[-2,1]])"
   ]
  },
  {
   "cell_type": "code",
   "execution_count": 96,
   "id": "a1ad1d95",
   "metadata": {},
   "outputs": [
    {
     "data": {
      "text/plain": [
       "array([[-2,  1]])"
      ]
     },
     "execution_count": 96,
     "metadata": {},
     "output_type": "execute_result"
    }
   ],
   "source": [
    "w"
   ]
  },
  {
   "cell_type": "code",
   "execution_count": 98,
   "id": "b0712c9a",
   "metadata": {},
   "outputs": [
    {
     "data": {
      "text/plain": [
       "array([[-2],\n",
       "       [ 1]])"
      ]
     },
     "execution_count": 98,
     "metadata": {},
     "output_type": "execute_result"
    }
   ],
   "source": [
    "np.transpose(w)"
   ]
  },
  {
   "cell_type": "code",
   "execution_count": 99,
   "id": "68b5095d",
   "metadata": {},
   "outputs": [
    {
     "data": {
      "text/plain": [
       "array([0])"
      ]
     },
     "execution_count": 99,
     "metadata": {},
     "output_type": "execute_result"
    }
   ],
   "source": [
    "np.matmul(w,x)"
   ]
  }
 ],
 "metadata": {
  "kernelspec": {
   "display_name": "Python 3 (ipykernel)",
   "language": "python",
   "name": "python3"
  },
  "language_info": {
   "codemirror_mode": {
    "name": "ipython",
    "version": 3
   },
   "file_extension": ".py",
   "mimetype": "text/x-python",
   "name": "python",
   "nbconvert_exporter": "python",
   "pygments_lexer": "ipython3",
   "version": "3.9.13"
  }
 },
 "nbformat": 4,
 "nbformat_minor": 5
}
